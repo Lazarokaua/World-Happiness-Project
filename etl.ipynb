{
 "cells": [
  {
   "cell_type": "code",
   "execution_count": null,
   "id": "eccdbda7-98d1-4a9c-9217-578a91bde5c0",
   "metadata": {},
   "outputs": [
    {
     "name": "stdout",
     "output_type": "stream",
     "text": [
      "0      High\n",
      "1      High\n",
      "2      High\n",
      "3      High\n",
      "4      High\n",
      "       ... \n",
      "151     Low\n",
      "152     Low\n",
      "153     Low\n",
      "154     Low\n",
      "155     Low\n",
      "Name: Happiness_Level, Length: 156, dtype: object\n"
     ]
    },
    {
     "data": {
      "text/plain": [
       "Index(['Overall rank', 'Country or region', 'Score', 'GDP per capita',\n",
       "       'Social support', 'Healthy life expectancy',\n",
       "       'Freedom to make life choices', 'Generosity',\n",
       "       'Perceptions of corruption', 'Happiness_Level'],\n",
       "      dtype='object')"
      ]
     },
     "execution_count": 24,
     "metadata": {},
     "output_type": "execute_result"
    }
   ],
   "source": [
    "import pandas as pd\n",
    "import os\n",
    "import numpy as np\n",
    "\n",
    "path = os.path.join(\"csv_files\", \"2019.csv\")\n",
    "df = pd.read_csv(path)\n",
    "# df.head()\n",
    "\n",
    "# df.shape\n",
    "\n",
    "# country_arr = df['Country or region'].unique()\n",
    "\n",
    "# print(len(country_arr)) # 156 países\n",
    "\n",
    "\n",
    "# ## calcular a média da coluna Score.\n",
    "# media_score = round(df['Score'].mean(),2)\n",
    "\n",
    "# print(f\"média do score {media_score}\")\n",
    "\n",
    "# # Filtra o dataset pra mostrar só países com “Score” maior que 7.0.\n",
    "# score_maior_que_7 = df['Score'] > 7\n",
    "# paises_score_maior_que_7 = df.loc[score_maior_que_7, 'Country or region'].reset_index()\n",
    "# print(f\"Países com score maior que 7: {paises_score_maior_que_7}\")\n",
    "\n",
    "# # Agrupa os dados por “Country or region” e pega a soma da coluna “GDP per capita”.\n",
    "# GDP_per_capita_sum = df.groupby('Country or region')['GDP per capita'].sum()\n",
    "\n",
    "# print(GDP_per_capita_sum)\n",
    "\n",
    "# Cria uma nova coluna chamada “Happiness_Level” que atribui “High” se “Score” > 7, senão “Low”.\n",
    "df['Happiness_Level'] = np.where(df['Score'] > 7, \"High\", \"Low\")\n",
    "\n",
    "print(df[\"Happiness_Level\"])\n",
    "\n",
    "# df.columns\n"
   ]
  },
  {
   "cell_type": "code",
   "execution_count": null,
   "id": "001b0daf-adf0-4c4d-b7c6-4bfabb22cc68",
   "metadata": {},
   "outputs": [],
   "source": []
  }
 ],
 "metadata": {
  "kernelspec": {
   "display_name": "world-happiness-project",
   "language": "python",
   "name": "python3"
  },
  "language_info": {
   "codemirror_mode": {
    "name": "ipython",
    "version": 3
   },
   "file_extension": ".py",
   "mimetype": "text/x-python",
   "name": "python",
   "nbconvert_exporter": "python",
   "pygments_lexer": "ipython3",
   "version": "3.13.4"
  }
 },
 "nbformat": 4,
 "nbformat_minor": 5
}
