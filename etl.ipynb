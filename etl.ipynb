{
 "cells": [
  {
   "cell_type": "code",
   "execution_count": 8,
   "id": "eccdbda7-98d1-4a9c-9217-578a91bde5c0",
   "metadata": {},
   "outputs": [
    {
     "name": "stdout",
     "output_type": "stream",
     "text": [
      "156\n",
      "média do score 5.41\n"
     ]
    }
   ],
   "source": [
    "import pandas as pd\n",
    "import os\n",
    "\n",
    "path = os.path.join(\"csv_files\", \"2019.csv\")\n",
    "df = pd.read_csv(path)\n",
    "df.head()\n",
    "\n",
    "df.shape\n",
    "\n",
    "country_arr = df['Country or region'].unique()\n",
    "\n",
    "print(len(country_arr)) # 156 países\n",
    "\n",
    "\n",
    "## calcular a média da coluna Score.\n",
    "media_score = round(df['Score'].mean(),2)\n",
    "\n",
    "print(f\"média do score {media_score}\")\n"
   ]
  },
  {
   "cell_type": "code",
   "execution_count": null,
   "id": "001b0daf-adf0-4c4d-b7c6-4bfabb22cc68",
   "metadata": {},
   "outputs": [],
   "source": []
  }
 ],
 "metadata": {
  "kernelspec": {
   "display_name": "Python 3 (ipykernel)",
   "language": "python",
   "name": "python3"
  },
  "language_info": {
   "codemirror_mode": {
    "name": "ipython",
    "version": 3
   },
   "file_extension": ".py",
   "mimetype": "text/x-python",
   "name": "python",
   "nbconvert_exporter": "python",
   "pygments_lexer": "ipython3",
   "version": "3.13.5"
  }
 },
 "nbformat": 4,
 "nbformat_minor": 5
}
